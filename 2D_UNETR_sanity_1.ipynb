{
 "cells": [
  {
   "cell_type": "markdown",
   "metadata": {},
   "source": [
    "# 2D UNETR Sanity Test\n",
    "\n",
    "Code from ???"
   ]
  },
  {
   "cell_type": "code",
   "execution_count": null,
   "metadata": {},
   "outputs": [],
   "source": [
    "import numpy as np\n",
    "from matplotlib import pyplot as plt\n",
    "import pandas as pd\n",
    "import torch\n",
    "from torch import nn\n",
    "import torchvision.transforms.functional as F\n",
    "from torch.utils.data import DataLoader\n",
    "\n",
    "from segmentation_dataset_2D import SegmentationDataset2D, load_sanity_dataset"
   ]
  },
  {
   "cell_type": "markdown",
   "metadata": {},
   "source": [
    "### Load Sanity Dataset Object"
   ]
  },
  {
   "cell_type": "code",
   "execution_count": null,
   "metadata": {},
   "outputs": [],
   "source": [
    "sanity_data = load_sanity_dataset()\n",
    "\n",
    "X = sanity_data[0][0]\n",
    "Y = sanity_data[0][1]\n",
    "print('MRI shape', X.shape)\n",
    "print('Mask shape',Y.shape)\n",
    "\n",
    "plt.figure(figsize=(10, 5))\n",
    "\n",
    "plt.subplot(121)\n",
    "plt.imshow(F.to_pil_image(X))\n",
    "plt.title('MRI')\n",
    "plt.axis('off')\n",
    "\n",
    "plt.subplot(122)\n",
    "plt.imshow(F.to_pil_image(Y), cmap='gray')\n",
    "plt.title('Segmentation Mask')\n",
    "plt.axis('off')\n",
    "\n",
    "plt.show()"
   ]
  },
  {
   "cell_type": "markdown",
   "metadata": {},
   "source": [
    "### UNETR Model"
   ]
  },
  {
   "cell_type": "code",
   "execution_count": null,
   "metadata": {},
   "outputs": [],
   "source": []
  },
  {
   "cell_type": "markdown",
   "metadata": {},
   "source": [
    "### Sanity Test"
   ]
  },
  {
   "cell_type": "code",
   "execution_count": null,
   "metadata": {},
   "outputs": [],
   "source": [
    "device = torch.device(\"cuda\" if torch.cuda.is_available() else \"cpu\")\n",
    "device"
   ]
  },
  {
   "cell_type": "code",
   "execution_count": null,
   "metadata": {},
   "outputs": [],
   "source": [
    "net = UNETR().to(device)\n",
    "\n",
    "y_prob = net(X.unsqueeze(0)).to('cpu').squeeze()\n",
    "\n",
    "print(X.shape)\n",
    "print(y_prob.shape)\n",
    "print(y_prob.min(), y_prob.max())\n",
    "\n",
    "plt.figure(figsize=(15, 5))\n",
    "plt.subplot(141)\n",
    "plt.imshow(F.to_pil_image(X))\n",
    "plt.title('MRI')\n",
    "plt.axis('off')\n",
    "\n",
    "plt.subplot(142)\n",
    "plt.imshow(F.to_pil_image(Y), cmap='gray')\n",
    "plt.title('Segmentation Mask')\n",
    "plt.axis('off')\n",
    "\n",
    "plt.subplot(143)\n",
    "plt.imshow(F.to_pil_image(y_prob), cmap='gray')\n",
    "plt.title('Output Prob')\n",
    "plt.axis('off')\n",
    "\n",
    "plt.subplot(144)\n",
    "plt.imshow(F.to_pil_image(torch.round(y_prob)), cmap='gray')\n",
    "plt.title('Output')\n",
    "plt.axis('off')\n",
    "\n",
    "\n",
    "plt.show()\n"
   ]
  },
  {
   "cell_type": "code",
   "execution_count": null,
   "metadata": {},
   "outputs": [],
   "source": [
    "def get_optimizer(net):\n",
    "    return torch.optim.SGD(net.parameters(), lr=0.05, momentum=0.9)\n",
    "\n",
    "def train(data_loader, net, optimizer, weight=(0.9, 0.1)):\n",
    "    for data in data_loader:\n",
    "\n",
    "        inputs, targets = data[0].to(device), data[1].to(device)\n",
    "        outputs = net(inputs)\n",
    "\n",
    "        loss = nn.BCELoss()(outputs, targets)\n",
    "\n",
    "        optimizer.zero_grad()\n",
    "        loss.backward()\n",
    "        optimizer.step()\n",
    "\n",
    "        del inputs\n",
    "        del targets\n",
    "\n",
    "        return loss.item()"
   ]
  },
  {
   "cell_type": "code",
   "execution_count": null,
   "metadata": {},
   "outputs": [],
   "source": [
    "net.train()\n",
    "optimizer = get_optimizer(net)\n",
    "loss_graph = []\n",
    "\n",
    "EPOCH = 50\n",
    "\n",
    "sanity_loader = DataLoader(sanity_data, batch_size=1, num_workers=0, shuffle=False)\n",
    "for e in range(EPOCH):\n",
    "    loss = train(sanity_loader, net, optimizer)\n",
    "    loss_graph.append(loss)\n",
    "    print(\"Epoch: {} Loss: {}\".format(e, loss))\n",
    "\n",
    "plt.figure(figsize=(6, 3))\n",
    "plt.plot(np.arange(0, EPOCH), loss_graph)\n",
    "plt.xlabel('Iterations')\n",
    "plt.ylabel('Loss value')\n",
    "plt.title('Training loss for sanity check')\n",
    "plt.show()"
   ]
  },
  {
   "cell_type": "code",
   "execution_count": null,
   "metadata": {},
   "outputs": [],
   "source": [
    "y_prob = net(X.unsqueeze(0)).to('cpu').squeeze()\n",
    "\n",
    "print(X.shape)\n",
    "print(y_prob.shape)\n",
    "print(y_prob.min(), y_prob.max())\n",
    "\n",
    "plt.figure(figsize=(15, 5))\n",
    "plt.subplot(141)\n",
    "plt.imshow(F.to_pil_image(X))\n",
    "plt.title('MRI')\n",
    "plt.axis('off')\n",
    "\n",
    "plt.subplot(142)\n",
    "plt.imshow(F.to_pil_image(Y), cmap='gray')\n",
    "plt.title('Segmentation Mask')\n",
    "plt.axis('off')\n",
    "\n",
    "plt.subplot(143)\n",
    "plt.imshow(F.to_pil_image(y_prob), cmap='gray')\n",
    "plt.title('Output Prob')\n",
    "plt.axis('off')\n",
    "\n",
    "plt.subplot(144)\n",
    "plt.imshow(F.to_pil_image(torch.round(y_prob)), cmap='gray')\n",
    "plt.title('Output')\n",
    "plt.axis('off')\n",
    "\n",
    "plt.show()"
   ]
  }
 ],
 "metadata": {
  "kernelspec": {
   "display_name": "Python 3",
   "language": "python",
   "name": "python3"
  },
  "language_info": {
   "codemirror_mode": {
    "name": "ipython",
    "version": 3
   },
   "file_extension": ".py",
   "mimetype": "text/x-python",
   "name": "python",
   "nbconvert_exporter": "python",
   "pygments_lexer": "ipython3",
   "version": "3.9.2"
  }
 },
 "nbformat": 4,
 "nbformat_minor": 2
}
